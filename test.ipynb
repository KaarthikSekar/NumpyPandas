{
 "cells": [
  {
   "cell_type": "code",
   "execution_count": 5,
   "id": "52c58b80",
   "metadata": {},
   "outputs": [
    {
     "name": "stdout",
     "output_type": "stream",
     "text": [
      "1.26.4\n",
      "2.2.2\n"
     ]
    }
   ],
   "source": [
    "import numpy as np\n",
    "import pandas as pd\n",
    "\n",
    "print(np.__version__)\n",
    "print(pd.__version__)\n"
   ]
  },
  {
   "cell_type": "code",
   "execution_count": 10,
   "id": "61d69e79",
   "metadata": {},
   "outputs": [
    {
     "name": "stdout",
     "output_type": "stream",
     "text": [
      "5\n",
      "[1 2 3]\n",
      "[[1 2 3]\n",
      " [4 5 6]]\n"
     ]
    }
   ],
   "source": [
    "# scalars\n",
    "s = 5;\n",
    "print(s)\n",
    "\n",
    "# vectors - creating it ( v - row vector)\n",
    "v = np.array([1, 2, 3])\n",
    "print(v)\n",
    "\n",
    "# matrices - double square bracket\n",
    "m = np.array([[1,2,3],[4,5,6]])\n",
    "print(m)"
   ]
  },
  {
   "cell_type": "code",
   "execution_count": 23,
   "id": "ad7a9f7a",
   "metadata": {},
   "outputs": [
    {
     "name": "stdout",
     "output_type": "stream",
     "text": [
      "<class 'numpy.ndarray'>\n",
      "<class 'numpy.ndarray'>\n",
      "<class 'numpy.ndarray'>\n",
      "<class 'numpy.ndarray'>\n"
     ]
    }
   ],
   "source": [
    "# int, n-dimensional array\n",
    "print(type(s))\n",
    "print(type(m))\n",
    "print(type(v))\n",
    "\n",
    "# another way to create scalars in python\n",
    "s = np.array(s)\n",
    "print(type(s))"
   ]
  },
  {
   "cell_type": "code",
   "execution_count": null,
   "id": "883537a7",
   "metadata": {},
   "outputs": [
    {
     "name": "stdout",
     "output_type": "stream",
     "text": [
      "(2, 3)\n",
      "(3,)\n",
      "()\n"
     ]
    }
   ],
   "source": [
    "# checking the shapes of the arrays - that is the dimensions \n",
    "print(m.shape)\n",
    "print(v.shape)\n",
    "print(s.shape)"
   ]
  },
  {
   "cell_type": "code",
   "execution_count": 28,
   "id": "e68e585a",
   "metadata": {},
   "outputs": [
    {
     "name": "stdout",
     "output_type": "stream",
     "text": [
      "[[1 2 3]] [[1]\n",
      " [2]\n",
      " [3]]\n",
      "[[1 2]\n",
      " [3 4]\n",
      " [5 6]] [[1 2 3]\n",
      " [4 5 6]]\n"
     ]
    }
   ],
   "source": [
    "# we can reshape those arrays using reshape method\n",
    "print(v.reshape(1,3), v.reshape(3,1))\n",
    "print(m.reshape(3,2), m.reshape(2,3))"
   ]
  },
  {
   "cell_type": "code",
   "execution_count": null,
   "id": "e2c224bb",
   "metadata": {},
   "outputs": [
    {
     "name": "stdout",
     "output_type": "stream",
     "text": [
      "[[ 8 10 12]\n",
      " [14 16 18]]\n",
      "(2, 3) (2, 3)\n",
      "(2, 2, 3)\n"
     ]
    }
   ],
   "source": [
    "# tensor \n",
    "m1 = np.array([[1,2,3],[4,5,6]])\n",
    "m2 = np.array([[7,8,9],[10,11,12]])\n",
    "\n",
    "\n",
    "print(m1.shape,m2.shape)\n",
    "\n",
    "# (2,2,3) - 2 matrices, 2*3 \n",
    "t = np.array([m1,m2])\n",
    "print(t.shape)"
   ]
  },
  {
   "cell_type": "code",
   "execution_count": 34,
   "id": "526842c8",
   "metadata": {},
   "outputs": [
    {
     "name": "stdout",
     "output_type": "stream",
     "text": [
      "(2, 2, 3)\n"
     ]
    }
   ],
   "source": [
    "t_manual = np.array([[[1,2,3],[4,5,6]],[[6,7,8],[9,10,11]]]);\n",
    "print(t_manual.shape)"
   ]
  },
  {
   "cell_type": "code",
   "execution_count": 36,
   "id": "74fa0f22",
   "metadata": {},
   "outputs": [
    {
     "name": "stdout",
     "output_type": "stream",
     "text": [
      "[[ 8 10 12]\n",
      " [14 16 18]]\n",
      "[[-6 -6 -6]\n",
      " [-6 -6 -6]]\n"
     ]
    }
   ],
   "source": [
    "# additions and subtraction of arrays\n",
    "print(m1 + m2)\n",
    "print(m1 - m2)"
   ]
  },
  {
   "cell_type": "code",
   "execution_count": 40,
   "id": "2e87cd0e",
   "metadata": {},
   "outputs": [
    {
     "name": "stdout",
     "output_type": "stream",
     "text": [
      "[-4 -2  0  2  4]\n",
      "[6 6 6 6 6]\n"
     ]
    }
   ],
   "source": [
    "# same operations for vectors\n",
    "v1 = np.array([1,2,3,4,5])\n",
    "v2 = np.array([5,4,3,2,1])\n",
    "\n",
    "print(v1-v2)\n",
    "print(v1+v2)"
   ]
  },
  {
   "cell_type": "code",
   "execution_count": 42,
   "id": "a420bd21",
   "metadata": {},
   "outputs": [
    {
     "name": "stdout",
     "output_type": "stream",
     "text": [
      "[[1 2 3 4]\n",
      " [5 6 7 8]]\n",
      "[[1 5]\n",
      " [2 6]\n",
      " [3 7]\n",
      " [4 8]]\n"
     ]
    }
   ],
   "source": [
    "# Transposing matrices\n",
    "A = np.array([[1,2,3,4],[5,6,7,8]])\n",
    "print(A)\n",
    "print(A.T)"
   ]
  },
  {
   "cell_type": "code",
   "execution_count": 43,
   "id": "b20e614c",
   "metadata": {},
   "outputs": [
    {
     "name": "stdout",
     "output_type": "stream",
     "text": [
      "-66\n"
     ]
    }
   ],
   "source": [
    "# dot product \n",
    "x = np.array([2,8,-4])\n",
    "y = np.array([1,-7,3])\n",
    "\n",
    "print(np.dot(x,y))"
   ]
  }
 ],
 "metadata": {
  "kernelspec": {
   "display_name": "base",
   "language": "python",
   "name": "python3"
  },
  "language_info": {
   "codemirror_mode": {
    "name": "ipython",
    "version": 3
   },
   "file_extension": ".py",
   "mimetype": "text/x-python",
   "name": "python",
   "nbconvert_exporter": "python",
   "pygments_lexer": "ipython3",
   "version": "3.11.7"
  }
 },
 "nbformat": 4,
 "nbformat_minor": 5
}
